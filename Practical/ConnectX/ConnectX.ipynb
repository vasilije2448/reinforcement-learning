{
 "cells": [
  {
   "cell_type": "markdown",
   "metadata": {},
   "source": [
    "# About"
   ]
  },
  {
   "cell_type": "markdown",
   "metadata": {},
   "source": [
    "This notebook is for testing and commentary.\n",
    "\n",
    "For each model, there's a .py file which was used for its training."
   ]
  },
  {
   "cell_type": "code",
   "execution_count": 1,
   "metadata": {},
   "outputs": [
    {
     "name": "stdout",
     "output_type": "stream",
     "text": [
      "Loading environment football failed: No module named 'gfootball'\n"
     ]
    }
   ],
   "source": [
    "import os\n",
    "import random\n",
    "import numpy as np\n",
    "%matplotlib inline\n",
    "from kaggle_environments import make, evaluate\n",
    "from stable_baselines3 import PPO"
   ]
  },
  {
   "cell_type": "code",
   "execution_count": 2,
   "metadata": {},
   "outputs": [],
   "source": [
    "MODEL_DIR = os.path.join(\".\",\"models\")"
   ]
  },
  {
   "cell_type": "markdown",
   "metadata": {},
   "source": [
    "# Utility functions"
   ]
  },
  {
   "cell_type": "code",
   "execution_count": 3,
   "metadata": {},
   "outputs": [],
   "source": [
    "# divides board into 3 channels - https://www.kaggle.com/c/connectx/discussion/168246\n",
    "# first channel: player 1 pieces\n",
    "# second channel: player 2 pieces\n",
    "# third channel: possible moves. 1 for player_1 and -1 for player_2\n",
    "def transform_board(board, mark):\n",
    "    rows = board[0].shape[0]\n",
    "    columns = board[0].shape[1]\n",
    "\n",
    "    layer1 = board[0].copy()\n",
    "    for c in range(0, columns):\n",
    "        for r in range(rows - 1, -1, -1):\n",
    "            value = layer1[r, c]\n",
    "            if value == 1:\n",
    "                layer1[r, c] = 1\n",
    "            else:\n",
    "                layer1[r, c] = 0\n",
    "\n",
    "    layer2 = board[0].copy()\n",
    "    for c in range(0, columns):\n",
    "        for r in range(rows - 1, -1, -1):\n",
    "            value = layer2[r, c]\n",
    "            if value == 2:\n",
    "                layer2[r, c] = 1\n",
    "            else:\n",
    "                layer2[r, c] = 0\n",
    "\n",
    "    layer3 = board[0].copy()\n",
    "    for c in range(0, columns):\n",
    "        for r in range(rows - 1, -1, -1):\n",
    "            value = layer3[r, c]\n",
    "            if value == 0:\n",
    "                if (mark == 1):\n",
    "                    layer3[r, c] = 1\n",
    "                else:\n",
    "                    layer3[r, c] = -1\n",
    "                break\n",
    "            else:\n",
    "                layer3[r, c] = 0\n",
    "\n",
    "    board = np.array([[layer1, layer2, layer3]])\n",
    "    return board\n",
    "\n",
    "def get_win_percentages(agent1, agent2, n_rounds=100):\n",
    "    # Use default Connect Four setup\n",
    "    config = {'rows': 6, 'columns': 7, 'inarow': 4}\n",
    "    # Agent 1 goes first (roughly) half the time          \n",
    "    outcomes = evaluate(\"connectx\", [agent1, agent2], config, [], n_rounds//2)\n",
    "    # Agent 2 goes first (roughly) half the time      \n",
    "    outcomes += [[b,a] for [a,b] in evaluate(\"connectx\", [agent2, agent1], config, [], n_rounds-n_rounds//2)]\n",
    "    print(\"Agent 1 Win Percentage:\", np.round(outcomes.count([1,-1])/len(outcomes), 2))\n",
    "    print(\"Agent 2 Win Percentage:\", np.round(outcomes.count([-1,1])/len(outcomes), 2))\n",
    "    print(\"Number of Invalid Plays by Agent 1:\", outcomes.count([None, 0]))\n",
    "    print(\"Number of Invalid Plays by Agent 2:\", outcomes.count([0, None]))\n",
    "    \n",
    "def agent(obs, config):\n",
    "    board_2d = np.array(obs['board']).reshape(1,6,7)\n",
    "    board_3c = transform_board(board_2d, obs.mark)\n",
    "    col, _ = model.predict(board_3c, deterministic=True)\n",
    "    return int(col)\n",
    "    # Check if selected column is valid\n",
    "    is_valid = (obs['board'][int(col)] == 0)\n",
    "    # If not valid, select random move. \n",
    "    if is_valid:\n",
    "        return int(col)\n",
    "    else:\n",
    "        return random.choice([col for col in range(config.columns) if obs.board[int(col)] == 0])"
   ]
  },
  {
   "cell_type": "markdown",
   "metadata": {},
   "source": [
    "### PPO CNN vs random\n",
    "\n",
    "90-95 win rate after ~250k steps"
   ]
  },
  {
   "cell_type": "code",
   "execution_count": 5,
   "metadata": {},
   "outputs": [
    {
     "name": "stdout",
     "output_type": "stream",
     "text": [
      "Agent 1 Win Percentage: 0.96\n",
      "Agent 2 Win Percentage: 0.04\n",
      "Number of Invalid Plays by Agent 1: 5\n",
      "Number of Invalid Plays by Agent 2: 0\n"
     ]
    }
   ],
   "source": [
    "model = PPO.load(os.path.join(MODEL_DIR, 'ppo_cnn_vs_random'))\n",
    "get_win_percentages(agent1=agent, agent2=\"random\", n_rounds=1000)"
   ]
  },
  {
   "cell_type": "markdown",
   "metadata": {},
   "source": [
    "### PPO CNN self-play\n",
    "\n",
    "It gets stuck at 80-85 win rate vs random and doesn't improve with more steps(I let it run for a few million).\n",
    "\n",
    "Average episode length oscillates between 5-8 steps.\n",
    "\n",
    "Not sure what's wrong."
   ]
  },
  {
   "cell_type": "code",
   "execution_count": 6,
   "metadata": {},
   "outputs": [
    {
     "name": "stdout",
     "output_type": "stream",
     "text": [
      "Agent 1 Win Percentage: 0.86\n",
      "Agent 2 Win Percentage: 0.08\n",
      "Number of Invalid Plays by Agent 1: 56\n",
      "Number of Invalid Plays by Agent 2: 0\n"
     ]
    }
   ],
   "source": [
    "model = PPO.load(os.path.join(MODEL_DIR, 'ppo_cnn_self_play'))\n",
    "get_win_percentages(agent1=agent, agent2=\"random\", n_rounds=1000)"
   ]
  }
 ],
 "metadata": {
  "kernelspec": {
   "display_name": "Python [conda env:connectx_env] *",
   "language": "python",
   "name": "conda-env-connectx_env-py"
  },
  "language_info": {
   "codemirror_mode": {
    "name": "ipython",
    "version": 3
   },
   "file_extension": ".py",
   "mimetype": "text/x-python",
   "name": "python",
   "nbconvert_exporter": "python",
   "pygments_lexer": "ipython3",
   "version": "3.7.9"
  }
 },
 "nbformat": 4,
 "nbformat_minor": 4
}
