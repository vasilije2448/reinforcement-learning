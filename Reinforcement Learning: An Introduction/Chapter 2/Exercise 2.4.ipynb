{
 "cells": [
  {
   "cell_type": "code",
   "execution_count": 1,
   "metadata": {},
   "outputs": [],
   "source": [
    "import numpy as np\n",
    "import matplotlib.pyplot as plt\n",
    "from tqdm import tqdm"
   ]
  },
  {
   "cell_type": "code",
   "execution_count": 2,
   "metadata": {},
   "outputs": [],
   "source": [
    "class Environment():\n",
    "    def __init__(self):\n",
    "        self.q = np.random.normal(loc=0, scale=1, size=10)\n",
    "    def step(self, action):\n",
    "        reward = self.q[action]\n",
    "        return reward\n",
    "    def reset(self):\n",
    "        self.q = np.random.normal(loc=0, scale=1, size=10)\n",
    "\n",
    "class AgentConstant():\n",
    "    def __init__(self, epsilon, alpha):\n",
    "        self.epsilon = epsilon\n",
    "        self.alpha = alpha\n",
    "        self.total_reward = 0\n",
    "        self.Q = np.zeros(10)\n",
    "        self.average_reward = 0\n",
    "        self.step_to_average_reward = None\n",
    "    def reset(self):\n",
    "        self.total_reward = 0\n",
    "        self.Q = np.zeros(10)\n",
    "        self.average_reward = 0\n",
    "        self.step_to_average_reward = None\n",
    "    def policy(self):\n",
    "        if np.random.rand() > self.epsilon:\n",
    "            return np.argmax(self.Q)\n",
    "        else:\n",
    "            return np.random.randint(10)\n",
    "    def train(self, num_steps, env):\n",
    "        self.step_to_average_reward = np.zeros(num_steps)\n",
    "        for i in range(num_steps):\n",
    "            action = self.policy()\n",
    "            reward = env.step(action)\n",
    "            self.Q[action] += self.alpha*(reward-self.Q[action])\n",
    "            \n",
    "            self.average_reward += (reward - self.average_reward)/(i+1)\n",
    "            self.step_to_average_reward[i] = self.average_reward\n",
    "            \n",
    "            # a different way of computing the average reward. Doesn't change anything\n",
    "            #self.total_reward += reward\n",
    "            #self.step_to_average_reward[i] = self.total_reward / (i+1)\n",
    "    def get_average_rewards(self):\n",
    "        return self.step_to_average_reward\n",
    "        "
   ]
  },
  {
   "cell_type": "code",
   "execution_count": 3,
   "metadata": {},
   "outputs": [
    {
     "name": "stderr",
     "output_type": "stream",
     "text": [
      "100%|██████████| 2000/2000 [00:08<00:00, 226.25it/s]\n"
     ]
    }
   ],
   "source": [
    "num_steps=int(1e3)\n",
    "num_agents=2000\n",
    "Y = np.zeros((num_agents,num_steps)) # average reward at every step, for every agent\n",
    "\n",
    "env = Environment()\n",
    "agent = AgentConstant(epsilon=0.1, alpha=0.1)\n",
    "\n",
    "for i in tqdm(range(num_agents)):\n",
    "    agent.reset()\n",
    "    env.reset()\n",
    "    agent.train(num_steps, env)\n",
    "    Y[i] = agent.get_average_rewards()"
   ]
  },
  {
   "cell_type": "code",
   "execution_count": 4,
   "metadata": {},
   "outputs": [],
   "source": [
    "x = np.arange(num_steps)\n",
    "y = np.zeros(num_steps)\n",
    "for i in range(0,num_steps):\n",
    "    y[i] = np.mean(Y[:,i])"
   ]
  },
  {
   "cell_type": "code",
   "execution_count": 5,
   "metadata": {},
   "outputs": [
    {
     "data": {
      "text/plain": [
       "[<matplotlib.lines.Line2D at 0x7f312c4d20d0>]"
      ]
     },
     "execution_count": 5,
     "metadata": {},
     "output_type": "execute_result"
    },
    {
     "data": {
      "image/png": "[encoded data removed]",
      "text/plain": [
       "<Figure size 432x288 with 1 Axes>"
      ]
     },
     "metadata": {
      "needs_background": "light"
     },
     "output_type": "display_data"
    }
   ],
   "source": [
    "plt.plot(x,y)"
   ]
  }
 ],
 "metadata": {
  "kernelspec": {
   "display_name": "Python (myenv)",
   "language": "python",
   "name": "myenv"
  },
  "language_info": {
   "codemirror_mode": {
    "name": "ipython",
    "version": 3
   },
   "file_extension": ".py",
   "mimetype": "text/x-python",
   "name": "python",
   "nbconvert_exporter": "python",
   "pygments_lexer": "ipython3",
   "version": "3.8.3"
  }
 },
 "nbformat": 4,
 "nbformat_minor": 4
}
